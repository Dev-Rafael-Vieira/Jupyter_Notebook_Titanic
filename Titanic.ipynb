{
 "cells": [
  {
   "cell_type": "markdown",
   "metadata": {},
   "source": [
    "# Imports:"
   ]
  },
  {
   "cell_type": "code",
   "execution_count": 1,
   "metadata": {},
   "outputs": [],
   "source": [
    "import pandas as pd\n",
    "import numpy as np\n",
    "\n",
    "from sklearn.ensemble import RandomForestClassifier"
   ]
  },
  {
   "cell_type": "markdown",
   "metadata": {},
   "source": [
    "# Data Load:"
   ]
  },
  {
   "cell_type": "code",
   "execution_count": 2,
   "metadata": {},
   "outputs": [],
   "source": [
    "train = pd.read_csv(\"train.csv\")\n",
    "test = pd.read_csv(\"test.csv\")\n",
    "\n",
    "#to see if all variables are 'female' or 'male'\n",
    "#train['Sex'].value_counts()"
   ]
  },
  {
   "cell_type": "markdown",
   "metadata": {},
   "source": [
    "# Transfom Data"
   ]
  },
  {
   "cell_type": "code",
   "execution_count": 3,
   "metadata": {},
   "outputs": [],
   "source": [
    "def transform_sex(data):\n",
    "    if data == 'female':\n",
    "        return 0\n",
    "    else:\n",
    "        return 1\n",
    "\n",
    "# applying a binary variable to determines the gender\n",
    "train['binary_sex'] = train['Sex'].map(transform_sex)\n",
    "test['binary_sex'] = test['Sex'].map(transform_sex)\n"
   ]
  },
  {
   "cell_type": "markdown",
   "metadata": {},
   "source": [
    "# Train the Model"
   ]
  },
  {
   "cell_type": "code",
   "execution_count": 4,
   "metadata": {},
   "outputs": [
    {
     "data": {
      "text/plain": [
       "RandomForestClassifier(random_state=0)"
      ]
     },
     "execution_count": 4,
     "metadata": {},
     "output_type": "execute_result"
    }
   ],
   "source": [
    "variables = ['binary_sex', 'Age']\n",
    "\n",
    "#load data base to analizes\n",
    "x = train[variables]\n",
    "\n",
    "#change the 'NaN' values by '-1'\n",
    "x = x.fillna(-1)\n",
    "\n",
    "#load data to compare forecast\n",
    "y = train['Survived']\n",
    "\n",
    "\n",
    "# loading the model\n",
    "model = RandomForestClassifier(n_estimators=100, random_state=0)\n",
    "\n",
    "# fit the model with values\n",
    "model.fit(x, y)\n"
   ]
  },
  {
   "cell_type": "markdown",
   "metadata": {},
   "source": [
    "# Predicting the data 'Survived' from test.csv"
   ]
  },
  {
   "cell_type": "code",
   "execution_count": 5,
   "metadata": {},
   "outputs": [],
   "source": [
    "# load the test variables\n",
    "x_test = test[variables]\n",
    "\n",
    "# change the 'NaN' values by '-1'\n",
    "x_test = x_test.fillna(-1)\n",
    "\n",
    "# loading the array with 'Survided' series in the variable called 'p'\n",
    "p = model.predict(x_test)\n"
   ]
  },
  {
   "cell_type": "markdown",
   "metadata": {},
   "source": [
    "# Creating the first model file '.csv' to submission"
   ]
  },
  {
   "cell_type": "code",
   "execution_count": 6,
   "metadata": {},
   "outputs": [],
   "source": [
    "# Pandas Series have an index and a name in your first line\n",
    "# this index get 'PassengerId' how your value and the predicted column will called 'Survived'\n",
    "sub = pd.Series(p, index=test['PassengerId'], name='Survived')\n",
    "\n",
    "\n",
    "\n",
    "# save the matrix in a .csv file\n",
    "sub.to_csv(\"first_model.csv\", header=True)\n",
    "\n",
    "# to see first ten lines of archive in the terminal \n",
    "# !head -n10 first_model.csv"
   ]
  }
 ],
 "metadata": {
  "kernelspec": {
   "display_name": "Python 3",
   "language": "python",
   "name": "python3"
  },
  "language_info": {
   "codemirror_mode": {
    "name": "ipython",
    "version": 3
   },
   "file_extension": ".py",
   "mimetype": "text/x-python",
   "name": "python",
   "nbconvert_exporter": "python",
   "pygments_lexer": "ipython3",
   "version": "3.8.5"
  }
 },
 "nbformat": 4,
 "nbformat_minor": 4
}
